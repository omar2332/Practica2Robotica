{
 "cells": [
  {
   "cell_type": "code",
   "execution_count": 3,
   "metadata": {},
   "outputs": [],
   "source": [
    "import math\n",
    "import json"
   ]
  },
  {
   "cell_type": "code",
   "execution_count": 13,
   "metadata": {},
   "outputs": [],
   "source": [
    "from shapely.geometry import Polygon\n",
    "corners = [(0,0),(0,1), (1,1), (1,0)]\n",
    "p2 = Polygon(corners)\n",
    "center = list(p2.centroid.coords)[0]\n"
   ]
  },
  {
   "cell_type": "code",
   "execution_count": 3,
   "metadata": {},
   "outputs": [],
   "source": [
    "def distance(x1,y1,x2,y2):\n",
    "    return math.sqrt( ((x1-x2)**2)  +( (y1-y2)**2)  )"
   ]
  },
  {
   "cell_type": "code",
   "execution_count": 16,
   "metadata": {},
   "outputs": [
    {
     "name": "stdout",
     "output_type": "stream",
     "text": [
      "(-0.5, -0.5)\n",
      "(-0.5, 0.5)\n",
      "(0.5, 0.5)\n",
      "(0.5, -0.5)\n"
     ]
    }
   ],
   "source": [
    "for coords in corners:\n",
    "    vector = ( coords[0] - center[0] , coords[1]-center[1] )\n",
    "    print(vector)"
   ]
  },
  {
   "cell_type": "code",
   "execution_count": 18,
   "metadata": {},
   "outputs": [
    {
     "data": {
      "text/plain": [
       "2"
      ]
     },
     "execution_count": 18,
     "metadata": {},
     "output_type": "execute_result"
    }
   ],
   "source": [
    "min(3,2)"
   ]
  },
  {
   "cell_type": "code",
   "execution_count": 4,
   "metadata": {},
   "outputs": [],
   "source": [
    "import dubins\n",
    "\n",
    "q0 = (100, 140, math.pi/2 )\n",
    "q1 = (200, 140, 3*math.pi/2)\n",
    "turning_radius = 25\n",
    "step_size = 0.01\n",
    "\n",
    "path = dubins.shortest_path(q0, q1, turning_radius)\n",
    "configurations, _ = path.sample_many(step_size)"
   ]
  },
  {
   "cell_type": "code",
   "execution_count": 5,
   "metadata": {},
   "outputs": [
    {
     "data": {
      "text/plain": [
       "128.53000000002808"
      ]
     },
     "execution_count": 5,
     "metadata": {},
     "output_type": "execute_result"
    }
   ],
   "source": [
    "_[-1]"
   ]
  },
  {
   "cell_type": "code",
   "execution_count": 24,
   "metadata": {},
   "outputs": [],
   "source": [
    "x= []\n",
    "y= []\n",
    "for c in configurations:\n",
    "    x.append(c[0])\n",
    "    y.append(c[1])"
   ]
  },
  {
   "cell_type": "code",
   "execution_count": 2,
   "metadata": {},
   "outputs": [],
   "source": [
    "import matplotlib.pyplot as plt"
   ]
  },
  {
   "cell_type": "code",
   "execution_count": 26,
   "metadata": {},
   "outputs": [
    {
     "data": {
      "text/plain": [
       "<matplotlib.collections.PathCollection at 0x7fd65b64f7f0>"
      ]
     },
     "execution_count": 26,
     "metadata": {},
     "output_type": "execute_result"
    },
    {
     "data": {
      "image/png": "[encoded data removed]",
      "text/plain": [
       "<Figure size 432x288 with 1 Axes>"
      ]
     },
     "metadata": {
      "needs_background": "light"
     },
     "output_type": "display_data"
    }
   ],
   "source": [
    "plt.scatter(x,y)"
   ]
  },
  {
   "cell_type": "code",
   "execution_count": 8,
   "metadata": {},
   "outputs": [],
   "source": [
    "with open(\"./src/obstacles/Anaqueles.json\") as json_file:\n",
    "    data = json.load(json_file)"
   ]
  },
  {
   "cell_type": "code",
   "execution_count": 9,
   "metadata": {},
   "outputs": [
    {
     "data": {
      "text/plain": [
       "[{'name': 'Anaquel 1',\n",
       "  'corners': [[610, 300], [610, 1800], [850, 1800], [850, 300]]},\n",
       " {'name': 'Anaquel 2',\n",
       "  'corners': [[970, 300], [970, 1800], [1210, 1800], [1210, 300]]},\n",
       " {'name': 'Anaquel 3',\n",
       "  'corners': [[1330, 300], [1330, 1800], [1570, 1800], [1570, 300]]},\n",
       " {'name': 'Anaquel 4',\n",
       "  'corners': [[1690, 300], [1690, 1800], [1930, 1800], [1930, 300]]},\n",
       " {'name': 'Anaquel 5',\n",
       "  'corners': [[2050, 300], [2050, 1800], [2290, 1800], [2290, 300]]},\n",
       " {'name': 'Anaquel 6',\n",
       "  'corners': [[2450, 1020], [2450, 1260], [3200, 1260], [3200, 1020]]},\n",
       " {'name': 'Anaquel 7',\n",
       "  'corners': [[2450, 660], [2450, 900], [3200, 990], [3200, 660]]},\n",
       " {'name': 'Anaquel 8',\n",
       "  'corners': [[2450, 300], [2450, 540], [3200, 540], [3200, 300]]}]"
      ]
     },
     "execution_count": 9,
     "metadata": {},
     "output_type": "execute_result"
    }
   ],
   "source": [
    "data"
   ]
  },
  {
   "cell_type": "code",
   "execution_count": 6,
   "metadata": {},
   "outputs": [
    {
     "name": "stdout",
     "output_type": "stream",
     "text": [
      "10.0\n",
      "[(1, 1), (2, 2), (1, 1), (7.071067811865475, 7.071067811865475), (8.071067811865476, 8.071067811865476)]\n"
     ]
    },
    {
     "data": {
      "text/plain": [
       "<matplotlib.collections.PathCollection at 0x7f8eff3be3d0>"
      ]
     },
     "execution_count": 6,
     "metadata": {},
     "output_type": "execute_result"
    },
    {
     "data": {
      "image/png": "[encoded data removed]",
      "text/plain": [
       "<Figure size 432x288 with 1 Axes>"
      ]
     },
     "metadata": {
      "needs_background": "light"
     },
     "output_type": "display_data"
    }
   ],
   "source": [
    "x1,y1 = 1,1\n",
    "x2,y2 = 2,2\n",
    "r = 10\n",
    "h = distance(x1,y1,x2,y2)\n",
    "x0,y0 = x2-x1,y2-y1\n",
    "p0,p1 = x0*r/h,y0*r/h\n",
    "\n",
    "\n",
    "x_new,y_new = p0+x1,p1+y1\n",
    "\n",
    "print(distance(x1,y1,x_new,y_new))\n",
    "\n",
    "xs= [x1,x2,x0,p0,x_new]\n",
    "ys= [y1,y2,y0,p1,y_new]\n",
    "\n",
    "print(list(zip(xs,ys)))\n",
    "\n",
    "plt.scatter(xs,ys)"
   ]
  },
  {
   "cell_type": "code",
   "execution_count": 9,
   "metadata": {},
   "outputs": [
    {
     "data": {
      "text/plain": [
       "True"
      ]
     },
     "execution_count": 9,
     "metadata": {},
     "output_type": "execute_result"
    }
   ],
   "source": [
    "from shapely.geometry import Polygon,LineString\n",
    "corners = [(0,0),(0,1), (1,1), (1,0)]\n",
    "p1 = Polygon(corners)\n",
    "l1 = LineString(  [(0,0),(2,2)])\n",
    "\n",
    "print(list(p1.intersection(l1).coords))\n"
   ]
  },
  {
   "cell_type": "code",
   "execution_count": 1,
   "metadata": {},
   "outputs": [
    {
     "name": "stdout",
     "output_type": "stream",
     "text": [
      "i 0\n",
      "j 0\n",
      "j 1\n",
      "j 2\n",
      "j 3\n",
      "j 4\n",
      "j 5\n",
      "i 1\n",
      "j 0\n",
      "j 1\n",
      "j 2\n",
      "j 3\n",
      "j 4\n",
      "j 5\n",
      "i 2\n",
      "j 0\n",
      "j 1\n",
      "j 2\n",
      "j 3\n",
      "j 4\n",
      "j 5\n",
      "i 3\n",
      "j 0\n",
      "j 1\n",
      "j 2\n",
      "j 3\n",
      "j 4\n",
      "j 5\n",
      "i 4\n",
      "j 0\n",
      "j 1\n",
      "j 2\n",
      "j 3\n",
      "j 4\n",
      "j 5\n",
      "i 5\n",
      "j 0\n",
      "j 1\n",
      "j 2\n",
      "j 3\n",
      "j 4\n",
      "j 5\n",
      "i 6\n",
      "j 0\n",
      "j 1\n",
      "j 2\n",
      "j 3\n",
      "j 4\n",
      "j 5\n",
      "i 7\n",
      "j 0\n",
      "j 1\n",
      "j 2\n",
      "j 3\n",
      "j 4\n",
      "j 5\n",
      "i 8\n",
      "j 0\n",
      "j 1\n",
      "j 2\n",
      "j 3\n",
      "j 4\n",
      "j 5\n",
      "i 9\n",
      "j 0\n",
      "j 1\n",
      "j 2\n",
      "j 3\n",
      "j 4\n",
      "j 5\n"
     ]
    }
   ],
   "source": [
    "for i in range(0,10):\n",
    "    print(\"i\",i)\n",
    "    for j in range(0,10):\n",
    "        print(\"j\",j)\n",
    "        if j ==5:\n",
    "            break"
   ]
  },
  {
   "cell_type": "code",
   "execution_count": 7,
   "metadata": {},
   "outputs": [],
   "source": [
    "a = [1,2,3]\n",
    "try:\n",
    "    a.index(4)\n",
    "except:\n",
    "    -1"
   ]
  },
  {
   "cell_type": "code",
   "execution_count": 1,
   "metadata": {},
   "outputs": [
    {
     "ename": "KeyError",
     "evalue": "'c'",
     "output_type": "error",
     "traceback": [
      "\u001b[0;31m---------------------------------------------------------------------------\u001b[0m",
      "\u001b[0;31mKeyError\u001b[0m                                  Traceback (most recent call last)",
      "\u001b[0;32m<ipython-input-1-0f690e6cc08f>\u001b[0m in \u001b[0;36m<module>\u001b[0;34m\u001b[0m\n\u001b[1;32m      1\u001b[0m \u001b[0ma\u001b[0m \u001b[0;34m=\u001b[0m\u001b[0;34m{\u001b[0m\u001b[0;34m\"a\"\u001b[0m\u001b[0;34m:\u001b[0m\u001b[0;36m1\u001b[0m\u001b[0;34m,\u001b[0m\u001b[0;34m\"b\"\u001b[0m\u001b[0;34m:\u001b[0m\u001b[0;36m2\u001b[0m\u001b[0;34m}\u001b[0m\u001b[0;34m\u001b[0m\u001b[0;34m\u001b[0m\u001b[0m\n\u001b[0;32m----> 2\u001b[0;31m \u001b[0ma\u001b[0m\u001b[0;34m[\u001b[0m\u001b[0;34m'c'\u001b[0m\u001b[0;34m]\u001b[0m\u001b[0;34m\u001b[0m\u001b[0;34m\u001b[0m\u001b[0m\n\u001b[0m",
      "\u001b[0;31mKeyError\u001b[0m: 'c'"
     ]
    }
   ],
   "source": [
    "a ={\"a\":1,\"b\":2}\n",
    "a['c']"
   ]
  },
  {
   "cell_type": "code",
   "execution_count": 1,
   "metadata": {},
   "outputs": [],
   "source": [
    "import networkx as nx\n",
    "Tree = nx.Graph()\n",
    "Tree.add_node(1)\n",
    "Tree.add_node(2)\n",
    "Tree.add_node(3)\n",
    "Tree.add_node(4)\n",
    "Tree.add_edge(1,2)\n",
    "Tree.add_edge(2,3)\n",
    "Tree.add_edge(2,4)\n"
   ]
  },
  {
   "cell_type": "code",
   "execution_count": 7,
   "metadata": {},
   "outputs": [
    {
     "data": {
      "text/plain": [
       "1"
      ]
     },
     "execution_count": 7,
     "metadata": {},
     "output_type": "execute_result"
    }
   ],
   "source": [
    "Tree.degree(3)"
   ]
  },
  {
   "cell_type": "code",
   "execution_count": null,
   "metadata": {},
   "outputs": [],
   "source": []
  }
 ],
 "metadata": {
  "kernelspec": {
   "display_name": "Python 3",
   "language": "python",
   "name": "python3"
  },
  "language_info": {
   "codemirror_mode": {
    "name": "ipython",
    "version": 3
   },
   "file_extension": ".py",
   "mimetype": "text/x-python",
   "name": "python",
   "nbconvert_exporter": "python",
   "pygments_lexer": "ipython3",
   "version": "3.8.8"
  }
 },
 "nbformat": 4,
 "nbformat_minor": 4
}
